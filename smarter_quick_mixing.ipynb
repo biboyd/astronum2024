{
 "cells": [
  {
   "cell_type": "markdown",
   "id": "082071e0-6c2a-4061-afb7-1914a2f68d21",
   "metadata": {},
   "source": [
    "# Looking at quick mixing calculations but include additions of na23\n",
    "additions from cburning as well as conv growth"
   ]
  },
  {
   "cell_type": "code",
   "execution_count": 1,
   "id": "eefbb153-afb5-401b-a3b1-805ee5c656d1",
   "metadata": {},
   "outputs": [],
   "source": [
    "import yt\n",
    "import unyt \n",
    "import numpy as np\n",
    "import matplotlib.pyplot as plt"
   ]
  },
  {
   "cell_type": "code",
   "execution_count": 2,
   "id": "7a7392c1-41cb-43a9-827c-89e4bc0529ab",
   "metadata": {},
   "outputs": [
    {
     "name": "stderr",
     "output_type": "stream",
     "text": [
      "yt : [INFO     ] 2024-10-18 14:38:07,766 Parameters: current_time              = 6000.0143314756515\n",
      "yt : [INFO     ] 2024-10-18 14:38:07,767 Parameters: domain_dimensions         = [256 256 256]\n",
      "yt : [INFO     ] 2024-10-18 14:38:07,767 Parameters: domain_left_edge          = [0. 0. 0.]\n",
      "yt : [INFO     ] 2024-10-18 14:38:07,768 Parameters: domain_right_edge         = [5.12e+08 5.12e+08 5.12e+08]\n",
      "yt : [INFO     ] 2024-10-18 14:38:07,811 Parameters: current_time              = 0.0\n",
      "yt : [INFO     ] 2024-10-18 14:38:07,811 Parameters: domain_dimensions         = [256 256 256]\n",
      "yt : [INFO     ] 2024-10-18 14:38:07,812 Parameters: domain_left_edge          = [0. 0. 0.]\n",
      "yt : [INFO     ] 2024-10-18 14:38:07,812 Parameters: domain_right_edge         = [5.12e+08 5.12e+08 5.12e+08]\n",
      "yt : [INFO     ] 2024-10-18 14:38:07,853 Parameters: current_time              = 6000.0143314756515\n",
      "yt : [INFO     ] 2024-10-18 14:38:07,853 Parameters: domain_dimensions         = [256 256 256]\n",
      "yt : [INFO     ] 2024-10-18 14:38:07,854 Parameters: domain_left_edge          = [0. 0. 0.]\n",
      "yt : [INFO     ] 2024-10-18 14:38:07,854 Parameters: domain_right_edge         = [5.12e+08 5.12e+08 5.12e+08]\n"
     ]
    }
   ],
   "source": [
    "data_dir = \"/home/biboyd/workspace/nersc_sims/SIM_DATA/myfix_urca2048_lev4/\"\n",
    "\n",
    "ds = yt.load(f\"{data_dir}/plt0163536/\")\n",
    "ds0 = yt.load(f\"{data_dir}/plt0000000/\")\n",
    "ds_nu = yt.load(f\"{data_dir}/nu_loss.plt0163536/\")\n",
    "\n",
    "def _mass_for_nu(field, data):\n",
    "    return data[('boxlib', 'density')] * data[('boxlib', 'volume')]\n",
    "\n",
    "def _beta_rate(field, data):\n",
    "    return data[(\"boxlib\", \"A23_beta_decay_rate\")]/data[(\"boxlib\", \"X(ne23)\")] /unyt.s\n",
    "\n",
    "def _ecap_rate(field, data):\n",
    "    return data[(\"boxlib\", \"A23_electron_capture_rate\")]/data[(\"boxlib\", \"X(na23)\")]/unyt.s\n",
    "\n",
    "def _mass_beta(field, data):\n",
    "    return data[(\"boxlib\", \"raw beta rate\")] * data[(\"gas\", \"mass\")] \n",
    "\n",
    "def _mass_ecap(field, data):\n",
    "    return data[(\"boxlib\", \"raw ecap rate\")] * data[(\"gas\", \"mass\")]\n",
    "\n",
    "ds_nu.add_field(('gas', 'mass'), _mass_for_nu, sampling_type='local', units='g', force_override=True)\n",
    "\n",
    "ds_nu.add_field(\n",
    "    name=(\"boxlib\", \"raw beta rate\"),\n",
    "    function=_beta_rate,\n",
    "    take_log=True,\n",
    "    units='1/s',\n",
    "    display_name=\"raw beta rate\",\n",
    "    sampling_type=\"local\", force_override=True)\n",
    "\n",
    "ds_nu.add_field(\n",
    "    name=(\"boxlib\", \"raw ecap rate\"),\n",
    "    function=_ecap_rate,\n",
    "    take_log=True,\n",
    "    units='1/s',\n",
    "    display_name=\"raw ecap rate\",\n",
    "    sampling_type=\"local\", force_override=True)\n",
    "\n",
    "ds_nu.add_field(\n",
    "    name=(\"boxlib\", \"mass beta\"),\n",
    "    function=_mass_beta,\n",
    "    take_log=True,\n",
    "    units='g/s',\n",
    "    display_name=\" beta mass\",\n",
    "    sampling_type=\"local\", force_override=True)\n",
    "\n",
    "ds_nu.add_field(\n",
    "    name=(\"boxlib\", \"mass ecap\"),\n",
    "    function=_mass_ecap,\n",
    "    take_log=True,\n",
    "    units='g/s',\n",
    "    display_name=\"ecap mass\",\n",
    "    sampling_type=\"local\", force_override=True)\n"
   ]
  },
  {
   "cell_type": "markdown",
   "id": "93d9a59c-8605-4ff8-8928-c320ada3f3b9",
   "metadata": {},
   "source": [
    "okay first checking what our actual sim says about all this"
   ]
  },
  {
   "cell_type": "code",
   "execution_count": 3,
   "id": "d3b94943-0b6e-40b7-bd8c-7151da35a0b0",
   "metadata": {},
   "outputs": [],
   "source": [
    "\n",
    "def _ne23_mass(field, data):\n",
    "    return data[('cell_volume')]*data[('gas', 'ne23_density')]\n",
    "def _na23_mass(field, data):\n",
    "    return data[('cell_volume')]*data[('gas', 'na23_density')]\n",
    "def _c12_mass(field, data):\n",
    "    return data[('cell_volume')]*data[('gas', 'c12_density')]\n",
    "\n",
    "def _c12_to_na23(field, data):\n",
    "    return data[(\"omegadot(na23)\")] + data[(\"omegadot(ne23)\")]\n",
    "\n",
    "\n",
    "def _c12_to_na23_mass(field, data):\n",
    "    return (data[(\"omegadot(na23)\")] + data[(\"omegadot(ne23)\")])* data[('mass')]\n",
    "    \n",
    "ds.add_field(\n",
    "    name=(\"boxlib\", \"ne23_mass\"),\n",
    "    function=_ne23_mass,\n",
    "    take_log=True,\n",
    "    units='g',\n",
    "    display_name=\"ne23 mass\",\n",
    "    sampling_type=\"local\", force_override=True)\n",
    "\n",
    "ds.add_field(\n",
    "    name=(\"boxlib\", \"na23_mass\"),\n",
    "    function=_na23_mass,\n",
    "    take_log=True,\n",
    "    units='g',\n",
    "    display_name=\"na23 mass\",\n",
    "    sampling_type=\"local\", force_override=True)\n",
    "\n",
    "ds.add_field(\n",
    "    name=(\"boxlib\", \"c12_mass\"),\n",
    "    function=_c12_mass,\n",
    "    take_log=True,\n",
    "    units='g',\n",
    "    display_name=\"c12 mass\",\n",
    "    sampling_type=\"local\", force_override=True)\n",
    "\n",
    "ds.add_field(\n",
    "    name=(\"boxlib\", \"c12_to_na23\"),\n",
    "    function=_c12_to_na23,\n",
    "    take_log=True,\n",
    "    units='1/s',\n",
    "    display_name=\"c12 to na23\",\n",
    "    sampling_type=\"local\", force_override=True)\n",
    "\n",
    "ds.add_field(\n",
    "    name=(\"boxlib\", \"c12_to_na23_mass\"),\n",
    "    function=_c12_to_na23_mass,\n",
    "    take_log=True,\n",
    "    units='g/s',\n",
    "    display_name=\"c12 to na23 mass\",\n",
    "    sampling_type=\"local\", force_override=True)"
   ]
  },
  {
   "cell_type": "markdown",
   "id": "f037cb10-8c65-4785-9333-7cf5b3135aac",
   "metadata": {},
   "source": [
    "## My theory work behind this all"
   ]
  },
  {
   "cell_type": "markdown",
   "id": "533cbf9a-7eb0-4bbe-b7a5-fec08e9b66c7",
   "metadata": {},
   "source": [
    "Okay so c12 significantly contributes to na23 and dominates in the inner 140km or so. So we need to account for this to get a proper distribution. rn in my head I have:\n",
    "\n",
    "* Sum up Na23 contributions\n",
    "* Sum up Ne23 contributions\n",
    "* Find Mass frac of Na23/Ne23 where sums are equivalent. ie balance of na23 create and na23 create.\n",
    "* Careful b/c Urca create and destroy equivalently, so I think just need to consider either one isotope or only one half of the reactions.\n",
    "\n",
    "Okay so approach, find composition such that Na23 number is preserved? that doesn't makes sense because its increasing. Find composition such that ratio is preserved.\n",
    "\n",
    "* eqn saying `cburn + ecap = bdecay`\n",
    "* eqn saying AVG.`X(ne23)/X(na23) = constant`\n",
    "* figure it out from there? I think I may be able to set this up. I think need to find the cburn part and keep that constant.\n",
    "\n",
    "so:\n",
    "$$ \\Delta_t M_{\\beta} = \\int_0^{R_{\\mathrm{conv}}} \\rho X({}^{23}\\mathrm{Ne}) r_{\\beta} dV =_q X({}^{23}\\mathrm{Ne}) \\int_0^{R_{\\mathrm{conv}}} \\rho r_{\\beta} dV$$\n",
    "$$ \\Delta_t M_{\\mathrm{ecap}} = \\int_0^{R_{\\mathrm{conv}}} \\rho X({}^{23}\\mathrm{Na}) r_{\\mathrm{ecap}} dV =_q X({}^{23}\\mathrm{Na}) \\int_0^{R_{\\mathrm{conv}}} \\rho r_{\\mathrm{ecap}} dV$$\n",
    "$$ \\Delta_t M_{\\mathrm{cburn}} = \\int_0^{R_{\\mathrm{conv}}} \\rho X({}^{12}\\mathrm{C})r_{\\mathrm{c12-to-na23}} dV$$\n",
    "$$ \\Delta_t M_{\\mathrm{conv}} = X({}^{23}\\mathrm{Na})_{\\mathrm{out}}* \\dot{M}_{\\mathrm{conv}}$$\n",
    "Now we have two equations:\n",
    "$$ \\Delta_t M_{\\mathrm{conv}} + \\Delta_t M_{\\mathrm{cburn}} + \\Delta_t M_{\\beta} - \\Delta_t M_{\\mathrm{ecap}} =  \\Delta_t M_{\\mathrm{Na23}} $$\n",
    "$$  \\Delta_t M_{\\mathrm{ecap}} - \\Delta_t M_{\\beta} =  \\Delta_t M_{\\mathrm{Ne23}} $$\n",
    "$$  M_{\\mathrm{Ne23}} = \\int_0^{R_{\\mathrm{conv}}} \\rho X({}^{23}\\mathrm{Ne}) dV =_{q} X({}^{23}\\mathrm{Ne}) M_{\\mathrm{conv}}$$\n",
    "$$  M_{\\mathrm{Na23}} = \\int_0^{R_{\\mathrm{conv}}} \\rho X({}^{23}\\mathrm{Na}) dV=_{q} X({}^{23}\\mathrm{Na}) M_{\\mathrm{conv}}$$\n",
    "Then we posit the equilibrium:\n",
    "$$   M_{\\mathrm{Ne23}} / M_{\\mathrm{Na23}} =  (M_{\\mathrm{Ne23}} +  \\Delta_t M_{\\mathrm{Ne23}} dt )/ (M_{\\mathrm{Na23}} + \\Delta_t M_{\\mathrm{Na23}} dt) = C $$\n",
    "Where $C$ is a constant.\n",
    "\n",
    "Now this $\\Delta_t M_{\\mathrm{cburn}}$ will be constant b/c it doesn't depend on the URca composition really. so instead we just need to tweak the mass fractions to get everything else to equal out. I don't think I can do this analytically tho just because wed pull out the mass fracs but the constant mucks things up. \n",
    "\n",
    "Theoretically $\\Delta_t M_{\\mathrm{conv}}$ should be pretty small as the convection zone only slowly advances. obvs in or sim it is not small\n",
    "\n",
    "Luckily we have computers. I guess first test is see if this is consistent with our simulation at all. I'm not sure it should be but I kinda think it should be close?\n",
    "\n",
    "And I guess we would rewrite this to minimize the mass ratio's minus the mass+delM ratios?"
   ]
  },
  {
   "cell_type": "markdown",
   "id": "0d300764-8691-45b4-bc80-620f058e7014",
   "metadata": {},
   "source": [
    "### Toy example, just the try to reflect our sim\n",
    "just tweaking the input ratio until I get something that is stable. Noticing that the $\\Delta t$ we use may be a bit important actually."
   ]
  },
  {
   "cell_type": "code",
   "execution_count": 4,
   "id": "51bfda91-1595-407e-972c-7ca1356306bb",
   "metadata": {},
   "outputs": [],
   "source": [
    "# define conv size\n",
    "conv_size_arr = np.load(\"/home/biboyd/workspace/nersc_sims/myfix_urca2048_lev4/conv_stuff_over_time/conv_zone_over_time.npy\")\n",
    "Rconv = conv_size_arr[-2, 1]\n",
    "\n",
    "sph_conv = ds.sphere(ds.domain_center, (Rconv, 'km'))\n",
    "sph_nu = ds_nu.sphere(ds_nu.domain_center, (Rconv, 'km'))\n",
    "\n",
    "# calculate masses and changes in mass\n",
    "Mne23 = sph_conv.sum('ne23_mass')\n",
    "Mna23 = sph_conv.sum('na23_mass')\n",
    "avgne23 = sph_conv.mean('X(ne23)')#, weight='rho')\n",
    "avgna23 = sph_conv.mean('X(na23)')#, weight='rho')\n",
    "\n",
    "delta_Mecap = sph_nu.sum(\"mass ecap\")\n",
    "delta_Mbeta = sph_nu.sum(\"mass beta\")\n",
    "delta_Mc12_to_na23 = sph_conv.sum(\"c12_to_na23_mass\")"
   ]
  },
  {
   "cell_type": "code",
   "execution_count": 5,
   "id": "34701e5c-85e8-4e4e-9f46-663847a2a134",
   "metadata": {
    "jp-MarkdownHeadingCollapsed": true
   },
   "outputs": [
    {
     "name": "stdout",
     "output_type": "stream",
     "text": [
      "Starting ratio 10.17\n",
      "Ecap Change: 2.00e-04 Msun/hr\n",
      "beta change: 4.51e-05 Msun/hr\n",
      "Mconv growth adding na23 change: 2.50e-05 Msun/hr\n",
      "c12 to na23 change: 1.30e-04 Msun/hr\n",
      "\n",
      "Change in na23 1.16e-07 Msun/hr\n",
      "Change in ne23 1.55e-04 Msun/hr\n",
      "ratio of changes 1.3e+03 dimensionless\n",
      "predicted quick mixing final ratio: 18.53 dimensionless\n",
      "Actual ratio: 9.55 dimensionless\n"
     ]
    }
   ],
   "source": [
    "Mconv = sph_conv.sum('mass')#.in_units('Msun')\n",
    "mconv_dot = 0.05 * 5e-4 *unyt.Msun/unyt.hr#from paper\n",
    "ratio = 10.17\n",
    "Xna23 = 8e-4 /(1+ratio)\n",
    "Xne23 = 8e-4 /(1+1/ratio)\n",
    "\n",
    "print(f\"Starting ratio {ratio:0.2f}\")\n",
    "print(f'Ecap Change: {Xna23*delta_Mecap.in_units('Msun/hr'):0.2e}')\n",
    "print(f'beta change: {Xne23*delta_Mbeta.in_units('Msun/hr'):0.2e}')\n",
    "\n",
    "print(f'Mconv growth adding na23 change: {mconv_dot.in_units('Msun/hr'):0.2e}')\n",
    "print(f'c12 to na23 change: {delta_Mc12_to_na23.in_units('Msun/hr'):0.2e}')\n",
    "change_in_na23 = mconv_dot + delta_Mc12_to_na23 + Xne23*delta_Mbeta - Xna23*delta_Mecap \n",
    "change_in_ne23 = Xna23*delta_Mecap - Xne23*delta_Mbeta\n",
    "\n",
    "print()\n",
    "print(f\"Change in na23 {change_in_na23.in_units('Msun/hr'):0.2e}\")\n",
    "print(f\"Change in ne23 {change_in_ne23.in_units('Msun/hr'):0.2e}\")\n",
    "print(f\"ratio of changes {change_in_ne23/change_in_na23:0.2}\")\n",
    "\n",
    "final_Xna23 = change_in_na23*0.1*unyt.day/Mconv + Xna23\n",
    "final_Xne23 = change_in_ne23*0.1*unyt.day/Mconv + Xne23\n",
    "print(f\"predicted quick mixing final ratio: {final_Xne23/final_Xna23:0.2f}\")\n",
    "print(f\"Actual ratio: {Mne23/Mna23:0.2f}\")"
   ]
  },
  {
   "cell_type": "markdown",
   "id": "84657686-30f6-403c-aa91-02549718768e",
   "metadata": {},
   "source": [
    "## Advancing to automate this"
   ]
  },
  {
   "cell_type": "markdown",
   "id": "4253b4ff-c29a-404c-a27c-84badb9f14a2",
   "metadata": {},
   "source": [
    "Constructing functions that actually evaluate this stuff. First step calc all the constants given a radial size and a simulation dataset. Then input that into a function which takes in X23na and X23ne as parameters. Use this func to find some minimization thing. add a normalization parameter $dt$ that must be sufficiently small for this all to be stable/work nicely. But also $dt$ needs to be large enough that the delm's actually matter meaningfully lol. will need to test this a bit"
   ]
  },
  {
   "cell_type": "code",
   "execution_count": 6,
   "id": "f8c9e41a-4c6a-4c47-adef-c93e4f970584",
   "metadata": {},
   "outputs": [
    {
     "data": {
      "text/plain": [
       "unyt_quantity(4141.49761224, '(dimensionless)')"
      ]
     },
     "execution_count": 6,
     "metadata": {},
     "output_type": "execute_result"
    }
   ],
   "source": [
    "# constants needed by the calculation\n",
    "def calc_const_variables(ds, Rconv):\n",
    "    sph_conv = ds.sphere(ds.domain_center, (Rconv, 'km'))\n",
    "    sph_nu   = ds_nu.sphere(ds_nu.domain_center, (Rconv, 'km'))\n",
    "\n",
    "    # Mass and mass changes\n",
    "    Mconv    = sph_conv.sum('mass')\n",
    "    delMburn = sph_conv.sum(\"c12_to_na23_mass\")\n",
    "    delMecap = sph_nu.sum(\"mass ecap\")\n",
    "    delMbeta = sph_nu.sum(\"mass beta\")\n",
    "    \n",
    "    return (Mconv, delMburn, delMbeta, delMecap)\n",
    "\n",
    "def calc_new_ratio(in_ratio, total_Urca, inputs, \n",
    "                   Mconv_dot=0.05*unyt.Msun/unyt.hr, outside_X=None, dt=unyt.hr):\n",
    "    \n",
    "    #calc composition and constants\n",
    "    Xna23 = total_Urca /(1+in_ratio)\n",
    "    Xne23 = total_Urca*in_ratio /(1+in_ratio)\n",
    "    Mconv, delMburn, delMbeta, delMecap = inputs\n",
    "\n",
    "    if outside_X is None:\n",
    "        outside_X = total_Urca\n",
    "        \n",
    "    # calc mass change for urca stuff\n",
    "    change_in_na23 = Mconv_dot*outside_X + delMburn + Xne23*delMbeta - Xna23*delMecap \n",
    "    change_in_ne23 = Xna23*delMecap - Xne23*delMbeta\n",
    "\n",
    "    # calc the \"final\" \n",
    "    final_Xna23 = change_in_na23*dt/Mconv + Xna23\n",
    "    final_Xne23 = change_in_ne23*dt/Mconv + Xne23\n",
    "\n",
    "    #calc the real final ratio though.\n",
    "    final_ratio = change_in_ne23/change_in_na23\n",
    "    return final_ratio#final_Xne23/final_Xna23\n",
    "\n",
    "def test_ratio(in_ratio, total_Urca, inputs, outside_X=None, dt=unyt.hr):\n",
    "    return np.abs(in_ratio - calc_new_ratio(in_ratio, total_Urca, inputs, outside_X=outside_X, dt=dt))/in_ratio\n",
    "\n",
    "mconv_dot = 4.2e-5 *unyt.Msun/unyt.hr#from paper\n",
    "ratio = 10.17\n",
    "Xna23 = 8e-4 /(1+ratio)\n",
    "Xne23 = 8e-4 /(1+1/ratio)\n",
    "\n",
    "const_variables = calc_const_variables(ds, Rconv)\n",
    "test_ratio(Xne23, Xna23, const_variables)"
   ]
  },
  {
   "cell_type": "markdown",
   "id": "5e344ce2-989a-4f64-ad45-ba9e8b61c299",
   "metadata": {},
   "source": [
    "Loop through various ratios and tweak that `dt` param to get something significant (i think at least)"
   ]
  },
  {
   "cell_type": "code",
   "execution_count": 7,
   "id": "558034b3-39c8-40a0-ab36-de6db22c15a4",
   "metadata": {},
   "outputs": [
    {
     "data": {
      "text/plain": [
       "<matplotlib.legend.Legend at 0x7c154fda0e00>"
      ]
     },
     "execution_count": 7,
     "metadata": {},
     "output_type": "execute_result"
    },
    {
     "data": {
      "image/png": "[encoded data removed]",
      "text/plain": [
       "<Figure size 600x600 with 2 Axes>"
      ]
     },
     "metadata": {},
     "output_type": "display_data"
    }
   ],
   "source": [
    "fig, (axt, axb) = plt.subplots(2, 1, figsize=(6, 6))\n",
    "# setup arrays and calc const variables\n",
    "ratio_arr = np.linspace(1, 20, 200)\n",
    "test_arr = np.empty_like(ratio_arr)\n",
    "total_A23 = 8e-4\n",
    "#choose_alpha = 1 * unyt.day\n",
    "dt_arr = np.logspace(-3, 1, 20)*unyt.day\n",
    "optimal_ratio = np.empty_like(dt_arr.value)\n",
    "\n",
    "for j, dt in enumerate(dt_arr):\n",
    "    # fill array\n",
    "    for i, curr_ratio in enumerate(ratio_arr):\n",
    "\n",
    "        test_arr[i] = np.max([0., calc_new_ratio(curr_ratio, total_A23, const_variables, outside_X=5e-4, dt=dt)])\n",
    "    \n",
    "    relative_diff = np.abs((test_arr-ratio_arr)/ratio_arr)\n",
    "    l, = axt.plot(ratio_arr, test_arr,'-', alpha=0.25)\n",
    "    axb.plot(ratio_arr, relative_diff, color=l.get_color(), alpha=0.25)\n",
    "\n",
    "    idx = np.argmin(relative_diff)\n",
    "    optimal_ratio[j] = ratio_arr[idx]\n",
    "    \n",
    "#plot avg optimal\n",
    "axt.vlines(np.mean(optimal_ratio), -20, 20, color='k', label=f\"Optimal Ratio: {np.mean(optimal_ratio):0.2f}\")\n",
    "axb.vlines(np.mean(optimal_ratio), -20, 20, color='k', label=f\"Optimal Ratio: {np.mean(optimal_ratio):0.2f}\")\n",
    "\n",
    "axt.vlines(10.92, -20, 20, linestyle='--', color='k', )\n",
    "axb.vlines(10.93, -20, 20, linestyle='--', color='k', )\n",
    "    \n",
    "# ratio in ratio out\n",
    "axt.plot(ratio_arr, ratio_arr, color='k')\n",
    "axt.set_xlabel(\"Input Xne23/Xna23\")\n",
    "axt.set_ylabel(\"output Xne23/Xna23\")\n",
    "\n",
    "axt.set_xlim(ratio_arr[0], ratio_arr[-1])\n",
    "axt.set_ylim(ratio_arr[0], ratio_arr[-1])\n",
    "\n",
    "# rel diff plot\n",
    "axb.hlines(0., ratio_arr[0], ratio_arr[-1], colors='k')\n",
    "axb.set_xlabel(\"Xne23/Xna23\")\n",
    "axb.set_ylabel(\"Relative Difference\")\n",
    "\n",
    "axb.set_xlim(ratio_arr[0], ratio_arr[-1])\n",
    "axb.set_ylim(-1, 2)\n",
    "fig.tight_layout()\n",
    "axt.legend()\n",
    "axb.legend()"
   ]
  },
  {
   "cell_type": "markdown",
   "id": "df0898d3-f74f-46c9-b8a1-abfd9060adb7",
   "metadata": {},
   "source": [
    "## Using scipy to minimize"
   ]
  },
  {
   "cell_type": "code",
   "execution_count": 8,
   "id": "55adfec0-ebed-437c-9ac2-fd91ae7bf2d7",
   "metadata": {},
   "outputs": [],
   "source": [
    "from scipy.optimize import minimize"
   ]
  },
  {
   "cell_type": "code",
   "execution_count": 9,
   "id": "5f36f147-e663-45a7-b917-4e31cddf72d1",
   "metadata": {},
   "outputs": [],
   "source": [
    "guess = 9\n",
    "true_ratio = np.empty_like(dt_arr.value)\n",
    "\n",
    "for i, dt in enumerate(dt_arr):\n",
    "    sol = minimize(test_ratio, guess, method='Powell', bounds=[(1., 46.)],\n",
    "               args=(total_A23, const_variables, 5e-4, 1*unyt.hr),\n",
    "               tol=1e-12)\n",
    "\n",
    "    if sol.success:\n",
    "        true_ratio[i] = sol.x[0]\n",
    "    else:\n",
    "        print(dt, sol)"
   ]
  },
  {
   "cell_type": "code",
   "execution_count": 10,
   "id": "21d95ba5-6acb-4cac-bee9-28790e6f2eae",
   "metadata": {},
   "outputs": [
    {
     "name": "stdout",
     "output_type": "stream",
     "text": [
      "[10.92147716 10.92147716 10.92147716 10.92147716 10.92147716 10.92147716\n",
      " 10.92147716 10.92147716 10.92147716 10.92147716 10.92147716 10.92147716\n",
      " 10.92147716 10.92147716 10.92147716 10.92147716 10.92147716 10.92147716\n",
      " 10.92147716 10.92147716]\n"
     ]
    }
   ],
   "source": [
    "print(true_ratio)"
   ]
  },
  {
   "cell_type": "markdown",
   "id": "93295349-4326-4fa2-8c3d-e7d076c4a488",
   "metadata": {},
   "source": [
    "Well that works really nicely lol. Also peturbed the guess a bit and it works all well and good everywhere in the bounds"
   ]
  },
  {
   "cell_type": "markdown",
   "id": "b26afd9e-260b-45f0-babc-f607b6d1a331",
   "metadata": {},
   "source": [
    "## Doing this the \"right\" way\n",
    "So I'm pretty sure I'm making this way more complex than it needs to be.\n",
    "\n",
    "so what we want is:\n",
    "\n",
    "$$\\frac{d}{dt} (M_{{}^{23}\\mathrm{Ne}}/ M_{{}^{23}\\mathrm{Na}}) = 0$$\n",
    "doing product rule and such we end up with\n",
    "\n",
    "$$ \\frac{M_{{}^{23}\\mathrm{Ne}}\\dot{M}_{{}^{23}\\mathrm{Na}} -  M_{{}^{23}\\mathrm{Na}} \\dot{M}_{{}^{23}\\mathrm{Ne}}}{(M_{{}^{23}\\mathrm{Na}})^2} = 0$$\n",
    "\n",
    "and so finally we get (with non zero sodium-23 mass)\n",
    "\n",
    "$$ M_{{}^{23}\\mathrm{Ne}}/M_{{}^{23}\\mathrm{Na}} -   \\dot{M}_{{}^{23}\\mathrm{Ne}}/\\dot{M}_{{}^{23}\\mathrm{Na}} = 0$$\n",
    "\n",
    "or in the way I had it before, its simply this:\n",
    "\n",
    "$$ M_{{}^{23}\\mathrm{Ne}}/M_{{}^{23}\\mathrm{Na}} -   \\Delta_t M_{{}^{23}\\mathrm{Ne}}/\\Delta_t M_{{}^{23}\\mathrm{Na}} = 0$$\n",
    "\n",
    "Both of these just depend on the mass frac of ne and na so we can solve for that mass frac. Add in that we have a fixed total gives us that we're looking for a ratio.\n",
    "\\frac{d}{dt} [M({}^{23}\\mathrm{Ne})/ M({}^{23}\\mathrm{Na})] = 0$$$$"
   ]
  },
  {
   "cell_type": "code",
   "execution_count": 13,
   "id": "1468dcb1-98a0-4fad-9e91-263f264f8fc0",
   "metadata": {},
   "outputs": [
    {
     "name": "stdout",
     "output_type": "stream",
     "text": [
      "4499690496.0 g/cm**3 558933760.0 K\n"
     ]
    }
   ],
   "source": [
    "maxT = sph_conv.max('tfromp')\n",
    "max_rho = sph_conv.max('rho')\n",
    "\n",
    "print(max_rho, maxT)"
   ]
  },
  {
   "cell_type": "code",
   "execution_count": null,
   "id": "f99d78e1-c394-42fb-856e-ed3d9bae7228",
   "metadata": {},
   "outputs": [],
   "source": []
  }
 ],
 "metadata": {
  "kernelspec": {
   "display_name": "Python 3 (ipykernel)",
   "language": "python",
   "name": "python3"
  },
  "language_info": {
   "codemirror_mode": {
    "name": "ipython",
    "version": 3
   },
   "file_extension": ".py",
   "mimetype": "text/x-python",
   "name": "python",
   "nbconvert_exporter": "python",
   "pygments_lexer": "ipython3",
   "version": "3.12.3"
  }
 },
 "nbformat": 4,
 "nbformat_minor": 5
}
